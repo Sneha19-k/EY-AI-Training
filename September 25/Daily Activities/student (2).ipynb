{
 "cells": [
  {
   "cell_type": "code",
   "execution_count": 1,
   "id": "2264dcea-c6fb-4c01-9a7d-c782257a7821",
   "metadata": {},
   "outputs": [
    {
     "name": "stderr",
     "output_type": "stream",
     "text": [
      "2025/09/25 14:31:08 WARNING mlflow.models.model: `artifact_path` is deprecated. Please use `name` instead.\n",
      "Registered model 'RandomForest_Iris' already exists. Creating a new version of this model...\n",
      "2025/09/25 14:31:16 INFO mlflow.store.model_registry.abstract_store: Waiting up to 300 seconds for model version to finish creation. Model name: RandomForest_Iris, version 2\n",
      "Created version '2' of model 'RandomForest_Iris'.\n"
     ]
    },
    {
     "name": "stdout",
     "output_type": "stream",
     "text": [
      "🏃 View run iris_rf_model at: http://127.0.0.1:5000/#/experiments/0/runs/5cd387e0fdbb4e7bbbc231908fa3603b\n",
      "🧪 View experiment at: http://127.0.0.1:5000/#/experiments/0\n",
      "✅ Run completed. Check MLflow UI at http://127.0.0.1:5000\n"
     ]
    }
   ],
   "source": [
    "import mlflow\n",
    "import mlflow.sklearn\n",
    "from sklearn.datasets import load_iris\n",
    "from sklearn.ensemble import RandomForestClassifier\n",
    "from sklearn.model_selection import train_test_split\n",
    "\n",
    "# Set tracking server\n",
    "mlflow.set_tracking_uri(\"http://127.0.0.1:5000\")\n",
    "\n",
    "# Data\n",
    "X, y = load_iris(return_X_y=True)\n",
    "X_train, X_test, y_train, y_test = train_test_split(X, y, test_size=0.2, random_state=42)\n",
    "\n",
    "# Start experiment\n",
    "with mlflow.start_run(run_name=\"iris_rf_model\"):\n",
    "    model = RandomForestClassifier(n_estimators=50, random_state=42)\n",
    "    model.fit(X_train, y_train)\n",
    "    acc = model.score(X_test, y_test)\n",
    "    \n",
    "    # Log params and metrics\n",
    "    mlflow.log_param(\"n_estimators\", 50)\n",
    "    mlflow.log_metric(\"accuracy\", acc)\n",
    "    \n",
    "    # Log model with input example + signature\n",
    "    mlflow.sklearn.log_model(\n",
    "        sk_model=model,\n",
    "        artifact_path=\"rf_model\",\n",
    "        input_example=X_train[:5],  # small sample\n",
    "        registered_model_name=\"RandomForest_Iris\"\n",
    "    )\n",
    "\n",
    "print(\"✅ Run completed. Check MLflow UI at http://127.0.0.1:5000\")"
   ]
  },
  {
   "cell_type": "code",
   "execution_count": 2,
   "id": "2d3245fa-a0ec-4ee6-8843-5f2ad080be2d",
   "metadata": {},
   "outputs": [
    {
     "name": "stderr",
     "output_type": "stream",
     "text": [
      "2025/09/25 14:31:17 WARNING mlflow.models.model: `artifact_path` is deprecated. Please use `name` instead.\n",
      "Registered model 'RandomForest_Iris' already exists. Creating a new version of this model...\n",
      "2025/09/25 14:31:24 INFO mlflow.store.model_registry.abstract_store: Waiting up to 300 seconds for model version to finish creation. Model name: RandomForest_Iris, version 3\n",
      "Created version '3' of model 'RandomForest_Iris'.\n"
     ]
    },
    {
     "name": "stdout",
     "output_type": "stream",
     "text": [
      "✅ Run completed for n_estimators=10, Accuracy=1.0000\n",
      "🏃 View run RF_10_trees at: http://127.0.0.1:5000/#/experiments/0/runs/d7a9b0ea9fdf4df282577528e59b62dd\n",
      "🧪 View experiment at: http://127.0.0.1:5000/#/experiments/0\n"
     ]
    },
    {
     "name": "stderr",
     "output_type": "stream",
     "text": [
      "2025/09/25 14:31:24 WARNING mlflow.models.model: `artifact_path` is deprecated. Please use `name` instead.\n",
      "Registered model 'RandomForest_Iris' already exists. Creating a new version of this model...\n",
      "2025/09/25 14:31:30 INFO mlflow.store.model_registry.abstract_store: Waiting up to 300 seconds for model version to finish creation. Model name: RandomForest_Iris, version 4\n",
      "Created version '4' of model 'RandomForest_Iris'.\n"
     ]
    },
    {
     "name": "stdout",
     "output_type": "stream",
     "text": [
      "✅ Run completed for n_estimators=50, Accuracy=1.0000\n",
      "🏃 View run RF_50_trees at: http://127.0.0.1:5000/#/experiments/0/runs/7623d71f0eab461faf5e76b325c071f5\n",
      "🧪 View experiment at: http://127.0.0.1:5000/#/experiments/0\n"
     ]
    },
    {
     "name": "stderr",
     "output_type": "stream",
     "text": [
      "2025/09/25 14:31:31 WARNING mlflow.models.model: `artifact_path` is deprecated. Please use `name` instead.\n",
      "Registered model 'RandomForest_Iris' already exists. Creating a new version of this model...\n",
      "2025/09/25 14:31:37 INFO mlflow.store.model_registry.abstract_store: Waiting up to 300 seconds for model version to finish creation. Model name: RandomForest_Iris, version 5\n",
      "Created version '5' of model 'RandomForest_Iris'.\n"
     ]
    },
    {
     "name": "stdout",
     "output_type": "stream",
     "text": [
      "✅ Run completed for n_estimators=100, Accuracy=1.0000\n",
      "🏃 View run RF_100_trees at: http://127.0.0.1:5000/#/experiments/0/runs/a71f3ca58300420b90e8bebda23eccb7\n",
      "🧪 View experiment at: http://127.0.0.1:5000/#/experiments/0\n"
     ]
    },
    {
     "name": "stderr",
     "output_type": "stream",
     "text": [
      "2025/09/25 14:31:37 WARNING mlflow.models.model: `artifact_path` is deprecated. Please use `name` instead.\n",
      "Registered model 'RandomForest_Iris' already exists. Creating a new version of this model...\n",
      "2025/09/25 14:31:43 INFO mlflow.store.model_registry.abstract_store: Waiting up to 300 seconds for model version to finish creation. Model name: RandomForest_Iris, version 6\n",
      "Created version '6' of model 'RandomForest_Iris'.\n"
     ]
    },
    {
     "name": "stdout",
     "output_type": "stream",
     "text": [
      "✅ Run completed for n_estimators=200, Accuracy=1.0000\n",
      "🏃 View run RF_200_trees at: http://127.0.0.1:5000/#/experiments/0/runs/8c8b2614741e471bbd896a36de547d4a\n",
      "🧪 View experiment at: http://127.0.0.1:5000/#/experiments/0\n"
     ]
    }
   ],
   "source": [
    "import mlflow\n",
    "import mlflow.sklearn\n",
    "from sklearn.datasets import load_iris\n",
    "from sklearn.ensemble import RandomForestClassifier\n",
    "from sklearn.model_selection import train_test_split\n",
    "\n",
    "# Set tracking server\n",
    "mlflow.set_tracking_uri(\"http://127.0.0.1:5000\")\n",
    "\n",
    "# Data\n",
    "X, y = load_iris(return_X_y=True)\n",
    "X_train, X_test, y_train, y_test = train_test_split(X, y, test_size=0.2, random_state=42)\n",
    "\n",
    "# Different hyperparameters to test\n",
    "n_estimators_list = [10, 50, 100, 200]\n",
    "\n",
    "for n in n_estimators_list:\n",
    "    with mlflow.start_run(run_name=f\"RF_{n}_trees\"):\n",
    "        # Train model\n",
    "        model = RandomForestClassifier(n_estimators=n, random_state=42)\n",
    "        model.fit(X_train, y_train)\n",
    "        acc = model.score(X_test, y_test)\n",
    "\n",
    "        # Log params & metrics\n",
    "        mlflow.log_param(\"n_estimators\", n)\n",
    "        mlflow.log_metric(\"accuracy\", acc)\n",
    "\n",
    "        # Log model to registry\n",
    "        mlflow.sklearn.log_model(\n",
    "            sk_model=model,\n",
    "            artifact_path=\"rf_model\",\n",
    "            input_example=X_train[:5],\n",
    "            registered_model_name=\"RandomForest_Iris\"\n",
    "        )\n",
    "\n",
    "        print(f\"✅ Run completed for n_estimators={n}, Accuracy={acc:.4f}\")\n"
   ]
  },
  {
   "cell_type": "code",
   "execution_count": 5,
   "id": "b068b356-c219-4322-89d0-be9137bbba5e",
   "metadata": {},
   "outputs": [],
   "source": [
    "import pandas as pd\n",
    "from sklearn.model_selection import train_test_split\n",
    "\n",
    "# Custom dataset: student marks and pass/fail result\n",
    "data = {\n",
    "    \"Maths\":    [30, 45, 50, 65, 70, 85, 90, 95],\n",
    "    \"Science\":  [25, 40, 55, 60, 72, 80, 88, 92],\n",
    "    \"Result\":   [0, 0, 0, 1, 1, 1, 1, 1]   # 0 = Fail, 1 = Pass\n",
    "}\n",
    "\n",
    "df = pd.DataFrame(data)\n",
    "\n",
    "# Features (X) and target (y)\n",
    "X = df[[\"Maths\", \"Science\"]].astype(float)   # convert to float\n",
    "y = df[\"Result\"]\n",
    "\n",
    "# Train-test split\n",
    "X_train, X_test, y_train, y_test = train_test_split(\n",
    "    X, y, test_size=0.3, random_state=42\n",
    ")"
   ]
  },
  {
   "cell_type": "code",
   "execution_count": 4,
   "id": "da3b4f6d-8b4a-4580-b948-e3facd1aabc8",
   "metadata": {},
   "outputs": [
    {
     "name": "stderr",
     "output_type": "stream",
     "text": [
      "2025/09/25 14:43:44 INFO mlflow.tracking.fluent: Experiment with name 'students_pass_fail_demo' does not exist. Creating a new experiment.\n",
      "2025/09/25 14:43:44 WARNING mlflow.models.model: `artifact_path` is deprecated. Please use `name` instead.\n",
      "C:\\Users\\user1\\AppData\\Local\\Programs\\Python\\Python311\\Lib\\site-packages\\mlflow\\types\\utils.py:452: UserWarning: Hint: Inferred schema contains integer column(s). Integer columns in Python cannot represent missing values. If your input data contains missing values at inference time, it will be encoded as floats and will cause a schema enforcement error. The best way to avoid this problem is to infer the model schema based on a realistic data sample (training dataset) that includes missing values. Alternatively, you can declare integer columns as doubles (float64) whenever these columns may have missing values. See `Handling Integers With Missing Values <https://www.mlflow.org/docs/latest/models.html#handling-integers-with-missing-values>`_ for more details.\n",
      "  warnings.warn(\n"
     ]
    },
    {
     "name": "stdout",
     "output_type": "stream",
     "text": [
      "🏃 View run lr_students at: http://127.0.0.1:5000/#/experiments/467912257516023031/runs/8f8a896590e141e29cbae3347e6e7ecc\n",
      "🧪 View experiment at: http://127.0.0.1:5000/#/experiments/467912257516023031\n",
      "✅ Done. Open MLflow UI → http://127.0.0.1:5000\n"
     ]
    }
   ],
   "source": [
    "import mlflow\n",
    "import mlflow.sklearn\n",
    "from sklearn.linear_model import LogisticRegression\n",
    "\n",
    "# Connect MLflow\n",
    "mlflow.set_tracking_uri(\"http://127.0.0.1:5000\")\n",
    "mlflow.set_experiment(\"students_pass_fail_demo\") \n",
    "\n",
    "with mlflow.start_run(run_name=\"lr_students\"):\n",
    "    # Train model\n",
    "    model = LogisticRegression()\n",
    "    model.fit(X_train, y_train)\n",
    "    acc = model.score(X_test, y_test)\n",
    "\n",
    "    # Log info to MLflow\n",
    "    mlflow.log_param(\"model_type\", \"LogisticRegression\")\n",
    "    mlflow.log_metric(\"accuracy\", acc)\n",
    "    mlflow.sklearn.log_model(\n",
    "        model,\n",
    "        artifact_path=\"student_model\",\n",
    "        input_example=X_train[:2]\n",
    "    )\n",
    "\n",
    "print(\"✅ Done. Open MLflow UI → http://127.0.0.1:5000\")"
   ]
  },
  {
   "cell_type": "code",
   "execution_count": null,
   "id": "81305e2a-937b-436d-b88f-8b1d082fbad6",
   "metadata": {},
   "outputs": [],
   "source": []
  }
 ],
 "metadata": {
  "kernelspec": {
   "display_name": "Python 3 (ipykernel)",
   "language": "python",
   "name": "python3"
  },
  "language_info": {
   "codemirror_mode": {
    "name": "ipython",
    "version": 3
   },
   "file_extension": ".py",
   "mimetype": "text/x-python",
   "name": "python",
   "nbconvert_exporter": "python",
   "pygments_lexer": "ipython3",
   "version": "3.11.0"
  }
 },
 "nbformat": 4,
 "nbformat_minor": 5
}
